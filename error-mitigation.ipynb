{
 "cells": [
  {
   "cell_type": "markdown",
   "metadata": {},
   "source": [
    "# Error Mitigation Using Zero Noise Extrapolation"
   ]
  },
  {
   "cell_type": "markdown",
   "metadata": {},
   "source": [
    "In this tutorial we attempt to reproduce figure 2(a) of [Kandala et al](https://arxiv.org/pdf/1805.04492.pdf). We plot the expectation value and the zero noise limit of the ground state projector $| 0 \\rangle \\langle 0|$ for a single qubit, under a circuit consisting of sequences of idenitity equivalent Clifford operations in the presence of depolarizing noise. The circuit is of the form \n",
    "$$ U = U_1 U_2 \\cdots U_n,$$\n",
    "where each $U_i$ is given by\n",
    "$$U_i = \\sigma_1 \\sigma_2 \\sigma_2 \\sigma_1$$\n",
    "and $\\sigma_1, \\sigma_2$ are chosen randomly from $[X, Y, Z]$. The exact expectation value is then simply 1.0."
   ]
  },
  {
   "cell_type": "markdown",
   "metadata": {},
   "source": [
    "We beging by defining a function that takes a circuit, in this case a Cirq circuit, and appends a random sequence of Clifford operations."
   ]
  },
  {
   "cell_type": "code",
   "execution_count": 1,
   "metadata": {},
   "outputs": [],
   "source": [
    "import random\n",
    "from cirq import Circuit, LineQubit, H, X, Y, Z, I\n",
    "\n",
    "def extend_circuit(circuit: Circuit) -> Circuit:\n",
    "    \"\"\"\n",
    "    Extends a circuit with a sequence of Clifford operations of the form:\n",
    "                    U = σ1*σ2*σ2*σ1,\n",
    "    where σ1 and σ2 are randomly chosen from [X, Y, Z].\n",
    "    The final circuit is then equivalent to the identity.\n",
    "    \"\"\"\n",
    "\n",
    "    qubit = LineQubit(0)\n",
    "    \n",
    "    paulis = {1: \"X\", 2: \"Y\", 3: \"Z\"}\n",
    "    pauli1 = random.choice(list(paulis.keys()))\n",
    "    pauli2 = random.choice(list(paulis.keys()))\n",
    "    \n",
    "    gate_sequence = [pauli1, pauli2, pauli2, pauli1]\n",
    "\n",
    "    for pauli in gate_sequence:\n",
    "        if paulis[pauli] == \"X\":\n",
    "            circuit.append(X(qubit))\n",
    "        elif paulis[pauli] == \"Y\":\n",
    "            circuit.append(Y(qubit))\n",
    "        else:\n",
    "            circuit.append(Z(qubit))\n",
    "    return circuit      "
   ]
  },
  {
   "cell_type": "markdown",
   "metadata": {},
   "source": [
    "Next we define our density matrix simulator. It returns the expectation value of the ground state projector in the presence of depolarizing noise. "
   ]
  },
  {
   "cell_type": "code",
   "execution_count": 7,
   "metadata": {},
   "outputs": [],
   "source": [
    "import numpy as np\n",
    "from cirq import depolarize, DensityMatrixSimulator\n",
    "\n",
    "# initialize a backend\n",
    "SIMULATOR = DensityMatrixSimulator()\n",
    "# 1% depolarizing noise\n",
    "NOISE = 0.01\n",
    "\n",
    "def executor(circ: Circuit) -> float:\n",
    "    \"\"\"\n",
    "    Executes a circuit with depolarizing noise and\n",
    "    returns the expectation value of the projector |0><0|.\n",
    "    \"\"\"\n",
    "\n",
    "    circuit = circ.with_noise(depolarize(p=NOISE))\n",
    "    rho = SIMULATOR.simulate(circuit).final_density_matrix\n",
    "    obs = np.diag([1, 0])\n",
    "    expectation = np.real(np.trace(rho @ obs))\n",
    "    return expectation"
   ]
  },
  {
   "cell_type": "markdown",
   "metadata": {},
   "source": [
    "For each scale factor $c_i \\in \\{1.0, 2.0, 3.0, 4.0\\}$ we need to calculate the expectation value. We do this here by globally folding the circuit. Then we calculate the zero noise limit expectation value using third order Richardson extrapolation. Note that in the paper they also calcualte the first and second order extrapolation values."
   ]
  },
  {
   "cell_type": "code",
   "execution_count": 8,
   "metadata": {},
   "outputs": [],
   "source": [
    "from mitiq.zne.scaling import fold_global\n",
    "from mitiq.zne.zne import execute_with_zne\n",
    "from mitiq.zne.inference import RichardsonFactory\n",
    "\n",
    "def get_expvals(circuit, scale_factors = [1.0, 2.0, 3.0, 4.0]):\n",
    "    \"\"\"\n",
    "    Calculates the expectation value of the projector |0><0|\n",
    "    of the circuit for each scale factor in scale_factors.\n",
    "    In addition, the zero noise limit is calculated using\n",
    "    Richardson extrapolation.\n",
    "    \"\"\"\n",
    "\n",
    "    richardson_factory = RichardsonFactory(scale_factors)\n",
    "    real_expvals = []\n",
    "\n",
    "    for scale_factor in scale_factors:\n",
    "        folded_circuit = fold_global(circuit, scale_factor)\n",
    "        expval = executor(folded_circuit)\n",
    "        real_expvals.append(expval)\n",
    "\n",
    "    zne_limit = execute_with_zne(circuit, executor, factory=richardson_factory)\n",
    "    return real_expvals, zne_limit"
   ]
  },
  {
   "cell_type": "markdown",
   "metadata": {},
   "source": [
    "We define a function to run our simulation an $n$ number of times."
   ]
  },
  {
   "cell_type": "code",
   "execution_count": null,
   "metadata": {},
   "outputs": [],
   "source": [
    "def simulation(n, scale_factors = [1.0, 2.0, 3.0, 4.0]):\n",
    "    \"\"\"\n",
    "    Runs get_expvals() n times to get the expected value and\n",
    "    zero noise limit. Every run the circuit is extended by\n",
    "    a sequence of 4 Pauli operators (extend_circuit()) equivalent\n",
    "    to the identity. Thus in every run k the number of Paulis in the\n",
    "    ciruit is 4k.\n",
    "    \"\"\"\n",
    "    \n",
    "    expvals = {scale_factor: [] for scale_factor in scale_factors}\n",
    "    zne_limit_vals = []\n",
    "    qubit = LineQubit(0)\n",
    "    circuit = Circuit(I(qubit))\n",
    "    \n",
    "    for _ in range(n):\n",
    "        circuit = extend_circuit(circuit)\n",
    "        real_expvals, zne_limit = get_expvals(circuit, scale_factors)\n",
    "        \n",
    "        for idx, scale in enumerate(scale_factors):\n",
    "            expvals[scale].append(real_expvals[idx])\n",
    "\n",
    "        zne_limit_vals.append(zne_limit)\n",
    "    return expvals, zne_limit_vals"
   ]
  },
  {
   "cell_type": "markdown",
   "metadata": {},
   "source": [
    "We run the simulation for $n=75$, and scale factors $c_i \\in \\{1.0, 2.0, 3.0, 4.0\\}$. The final circuit thus consists of $300$ Pauli gates."
   ]
  },
  {
   "cell_type": "code",
   "execution_count": 9,
   "metadata": {},
   "outputs": [],
   "source": [
    "n = 75\n",
    "scale_factors = [1.0, 2.0, 3.0, 4.0]\n",
    "expvals, zne_limit_vals = run_simulation(n, scale_factors)"
   ]
  },
  {
   "cell_type": "markdown",
   "metadata": {},
   "source": [
    "We plot the results."
   ]
  },
  {
   "cell_type": "code",
   "execution_count": 32,
   "metadata": {},
   "outputs": [
    {
     "data": {
      "image/png": "[encoded data removed]",
      "text/plain": [
       "<Figure size 432x288 with 1 Axes>"
      ]
     },
     "metadata": {
      "needs_background": "light"
     },
     "output_type": "display_data"
    }
   ],
   "source": [
    "c1 = expvals[1.0] \n",
    "c2 = expvals[2.0]\n",
    "c3 = expvals[3.0]\n",
    "c4 = expvals[4.0]\n",
    "\n",
    "num_cliffords = [4*i for i in range(n)]\n",
    "\n",
    "import matplotlib.pyplot as plt\n",
    "\n",
    "plt.title('Error mitigation of random single-qubit circuits')\n",
    "plt.xlabel('No. of Paulis') \n",
    "plt.ylabel(r'$E(| 0 \\rangle \\langle 0|)$')\n",
    "plt.grid(True)\n",
    "plt.ylim((0.5, 1.0));\n",
    "\n",
    "plt.plot(num_cliffords, c1, 'red')\n",
    "plt.plot(num_cliffords, c2, 'orange')\n",
    "plt.plot(num_cliffords, c3, 'yellow')\n",
    "plt.plot(num_cliffords, c4, 'green')\n",
    "plt.plot(num_cliffords, zne_limit_vals, 'magenta')\n",
    "plt.show()"
   ]
  },
  {
   "cell_type": "code",
   "execution_count": null,
   "metadata": {},
   "outputs": [],
   "source": []
  }
 ],
 "metadata": {
  "kernelspec": {
   "display_name": "Python 3",
   "language": "python",
   "name": "python3"
  },
  "language_info": {
   "codemirror_mode": {
    "name": "ipython",
    "version": 3
   },
   "file_extension": ".py",
   "mimetype": "text/x-python",
   "name": "python",
   "nbconvert_exporter": "python",
   "pygments_lexer": "ipython3",
   "version": "3.7.4"
  }
 },
 "nbformat": 4,
 "nbformat_minor": 2
}
